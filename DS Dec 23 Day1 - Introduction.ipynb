{
 "cells": [
  {
   "cell_type": "code",
   "execution_count": 20,
   "id": "cd143e76",
   "metadata": {},
   "outputs": [
    {
     "name": "stdout",
     "output_type": "stream",
     "text": [
      "80\n"
     ]
    }
   ],
   "source": [
    "a = 50\n",
    "b = 30\n",
    "c = a+b \n",
    "print (c)"
   ]
  },
  {
   "cell_type": "code",
   "execution_count": 21,
   "id": "82c6c78d",
   "metadata": {},
   "outputs": [],
   "source": [
    "a = 60"
   ]
  },
  {
   "cell_type": "code",
   "execution_count": 15,
   "id": "3d1c97a5",
   "metadata": {},
   "outputs": [],
   "source": [
    "b =30"
   ]
  },
  {
   "cell_type": "code",
   "execution_count": 16,
   "id": "86041812",
   "metadata": {},
   "outputs": [],
   "source": [
    "c = a+b"
   ]
  },
  {
   "cell_type": "code",
   "execution_count": 17,
   "id": "3b0fb342",
   "metadata": {},
   "outputs": [
    {
     "name": "stdout",
     "output_type": "stream",
     "text": [
      "90\n"
     ]
    }
   ],
   "source": [
    "print (c)"
   ]
  },
  {
   "cell_type": "code",
   "execution_count": 20,
   "id": "8ed176c6",
   "metadata": {},
   "outputs": [
    {
     "name": "stdout",
     "output_type": "stream",
     "text": [
      "80\n"
     ]
    }
   ],
   "source": [
    "a = 50\n",
    "b = 30\n",
    "c = a+b \n",
    "print (c)"
   ]
  },
  {
   "cell_type": "code",
   "execution_count": null,
   "id": "e7c18669",
   "metadata": {},
   "outputs": [],
   "source": []
  }
 ],
 "metadata": {
  "kernelspec": {
   "display_name": "Python 3 (ipykernel)",
   "language": "python",
   "name": "python3"
  },
  "language_info": {
   "codemirror_mode": {
    "name": "ipython",
    "version": 3
   },
   "file_extension": ".py",
   "mimetype": "text/x-python",
   "name": "python",
   "nbconvert_exporter": "python",
   "pygments_lexer": "ipython3",
   "version": "3.9.15"
  }
 },
 "nbformat": 4,
 "nbformat_minor": 5
}
